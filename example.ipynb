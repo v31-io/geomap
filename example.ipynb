{
 "cells": [
  {
   "cell_type": "code",
   "execution_count": null,
   "id": "c6dee27d",
   "metadata": {},
   "outputs": [],
   "source": [
    "from dotenv import load_dotenv\n",
    "load_dotenv()\n",
    "\n",
    "from python.lib.glad import GLAD\n",
    "self = GLAD()"
   ]
  },
  {
   "cell_type": "code",
   "execution_count": null,
   "id": "205bc261",
   "metadata": {},
   "outputs": [],
   "source": [
    "self.process_images_rgba('055W_03S')"
   ]
  },
  {
   "cell_type": "code",
   "execution_count": null,
   "id": "e9e1f929",
   "metadata": {},
   "outputs": [],
   "source": [
    "import os\n",
    "import rioxarray\n",
    "import xarray as xr\n",
    "import matplotlib.pyplot as plt\n",
    "from tqdm import tqdm\n",
    "from python.lib.util import fill_geotiff_stack, fill_geotiff_stack_new\n",
    "\n",
    "block_size = 100\n",
    "input_files = os.listdir('test')\n",
    "input_files = [os.path.join('test', f) for f in input_files if f.endswith('rgba.tif')]\n",
    "output_files = [file.replace('rgba', 'filled') for file in input_files]\n",
    "\n",
    "plt.imshow(rioxarray.open_rasterio(input_files[0]).transpose())"
   ]
  },
  {
   "cell_type": "code",
   "execution_count": null,
   "id": "c2a87b81",
   "metadata": {},
   "outputs": [],
   "source": [
    "fill_geotiff_stack(input_files, output_files, chunk_scheme={'band':1, 'x':100, 'y':100}, last_band_mask=True, no_data_value=0)"
   ]
  },
  {
   "cell_type": "code",
   "execution_count": null,
   "id": "0a5f0477",
   "metadata": {},
   "outputs": [],
   "source": [
    "plt.imshow(rioxarray.open_rasterio(output_files[0]).transpose())"
   ]
  },
  {
   "cell_type": "code",
   "execution_count": null,
   "id": "ac66c98a",
   "metadata": {},
   "outputs": [],
   "source": [
    "fill_geotiff_stack_new(input_files, output_files, block_size=100, last_band_mask=True, no_data_value=0)"
   ]
  },
  {
   "cell_type": "code",
   "execution_count": null,
   "id": "7523409d",
   "metadata": {},
   "outputs": [],
   "source": [
    "plt.imshow(rioxarray.open_rasterio(output_files[0]).transpose())"
   ]
  }
 ],
 "metadata": {
  "kernelspec": {
   "display_name": "base",
   "language": "python",
   "name": "python3"
  },
  "language_info": {
   "codemirror_mode": {
    "name": "ipython",
    "version": 3
   },
   "file_extension": ".py",
   "mimetype": "text/x-python",
   "name": "python",
   "nbconvert_exporter": "python",
   "pygments_lexer": "ipython3",
   "version": "3.11.2"
  }
 },
 "nbformat": 4,
 "nbformat_minor": 5
}
