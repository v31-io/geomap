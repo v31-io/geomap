{
 "cells": [
  {
   "cell_type": "code",
   "execution_count": null,
   "id": "c6dee27d",
   "metadata": {},
   "outputs": [],
   "source": [
    "from dotenv import load_dotenv\n",
    "load_dotenv('../.env')\n",
    "\n",
    "from lib.glad import GLAD\n",
    "self = GLAD()"
   ]
  },
  {
   "cell_type": "code",
   "execution_count": null,
   "id": "90935d49",
   "metadata": {},
   "outputs": [],
   "source": [
    "self.get_image('055W_03S', 404)\n",
    "self.get_image('054W_03S', 404)\n",
    "self.get_image('056W_03S', 404)"
   ]
  },
  {
   "cell_type": "code",
   "execution_count": null,
   "id": "98c602f5",
   "metadata": {},
   "outputs": [],
   "source": [
    "self.get_image_rgba('055W_03S', 404)\n",
    "self.get_image_rgba('054W_03S', 404)\n",
    "self.get_image_rgba('056W_03S', 404)"
   ]
  },
  {
   "cell_type": "code",
   "execution_count": null,
   "id": "1e01a8b1",
   "metadata": {},
   "outputs": [],
   "source": [
    "self.get_image_rgba('055W_03S', 404).attrs['url']"
   ]
  },
  {
   "cell_type": "code",
   "execution_count": null,
   "id": "f0e70039",
   "metadata": {},
   "outputs": [],
   "source": [
    "self.get_image_rgba('054W_03S', 404).attrs['url']"
   ]
  },
  {
   "cell_type": "code",
   "execution_count": null,
   "id": "8db7bad7",
   "metadata": {},
   "outputs": [],
   "source": [
    "ds = self.get_image_rgba('054W_03S', 402)\n",
    "ds"
   ]
  },
  {
   "cell_type": "code",
   "execution_count": null,
   "id": "84739589",
   "metadata": {},
   "outputs": [],
   "source": [
    "ds_transposed = ds.transpose('y', 'x', 'band')\n",
    "ds_transposed"
   ]
  },
  {
   "cell_type": "code",
   "execution_count": null,
   "id": "000e3b7d",
   "metadata": {},
   "outputs": [],
   "source": [
    "import numpy as np\n",
    "import matplotlib.pyplot as plt\n",
    "\n",
    "plt.imshow(ds_transposed.values)"
   ]
  },
  {
   "cell_type": "code",
   "execution_count": null,
   "id": "360cabbb",
   "metadata": {},
   "outputs": [],
   "source": [
    "ds."
   ]
  },
  {
   "cell_type": "code",
   "execution_count": null,
   "id": "c6ba13bb",
   "metadata": {},
   "outputs": [],
   "source": []
  }
 ],
 "metadata": {
  "kernelspec": {
   "display_name": "base",
   "language": "python",
   "name": "python3"
  },
  "language_info": {
   "codemirror_mode": {
    "name": "ipython",
    "version": 3
   },
   "file_extension": ".py",
   "mimetype": "text/x-python",
   "name": "python",
   "nbconvert_exporter": "python",
   "pygments_lexer": "ipython3",
   "version": "3.11.2"
  }
 },
 "nbformat": 4,
 "nbformat_minor": 5
}
